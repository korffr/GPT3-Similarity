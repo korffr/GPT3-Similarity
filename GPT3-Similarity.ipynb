{
  "nbformat": 4,
  "nbformat_minor": 0,
  "metadata": {
    "colab": {
      "name": "Untitled0.ipynb",
      "provenance": [],
      "authorship_tag": "ABX9TyMs10BaRP+1Pi5nBwNYlUJg"
    },
    "kernelspec": {
      "name": "python3",
      "display_name": "Python 3"
    },
    "language_info": {
      "name": "python"
    }
  },
  "cells": [
    {
      "cell_type": "code",
      "source": [
        "!pip install openai"
      ],
      "metadata": {
        "id": "rFmKNA0VZv4A"
      },
      "execution_count": null,
      "outputs": []
    },
    {
      "cell_type": "code",
      "source": [
        "import re\n",
        "import openai\n",
        "import numpy as np"
      ],
      "metadata": {
        "id": "j9ZNaCn3WHYL"
      },
      "execution_count": 2,
      "outputs": []
    },
    {
      "cell_type": "code",
      "source": [
        "def open_file(filepath):\n",
        "    with open(filepath, 'r', encoding='utf-8') as infile:\n",
        "        return infile.read()"
      ],
      "metadata": {
        "id": "GNUySqmhbJ2L"
      },
      "execution_count": 3,
      "outputs": []
    },
    {
      "cell_type": "code",
      "source": [
        "openai.api_key = open_file('openaiapikey.txt')"
      ],
      "metadata": {
        "id": "z_BTFaJYaTqc"
      },
      "execution_count": 4,
      "outputs": []
    },
    {
      "cell_type": "code",
      "source": [
        "def gpt3_embedding(content, engine='text-similarity-ada-001'):\n",
        "    response = openai.Embedding.create(input=content,engine=engine)\n",
        "    vector = response['data'][0]['embedding']  # this is a normal list\n",
        "    # print(vector)\n",
        "    return vector  "
      ],
      "metadata": {
        "id": "iCQADISqWlhR"
      },
      "execution_count": 9,
      "outputs": []
    },
    {
      "cell_type": "markdown",
      "source": [
        "# Calculate the similarity between 2 terms. <BR>\n",
        "You can subtract and add using the - and + operators <BR>\n",
        "The 2 terms you want to compare are separated with a . to indicate the dot-product<BR>\n",
        "The text is enclosed in single quotes<BR><BR>\n",
        "For example : <BR>'king'-'man'+'woman'.'queen'<BR><BR>"
      ],
      "metadata": {
        "id": "uiNaKjrFRD58"
      }
    },
    {
      "cell_type": "code",
      "source": [
        "phrase=input(\"Enter the expression: \")"
      ],
      "metadata": {
        "colab": {
          "base_uri": "https://localhost:8080/"
        },
        "id": "euy2SSygIpzP",
        "outputId": "97d180d6-fac3-4f63-e172-8b84a60a6dba"
      },
      "execution_count": 38,
      "outputs": [
        {
          "name": "stdout",
          "output_type": "stream",
          "text": [
            "Enter the expression: 'king'-'man'+'woman'.'queen'\n"
          ]
        }
      ]
    },
    {
      "cell_type": "code",
      "source": [
        "product=phrase.split('.')\n",
        "product_calc=[]\n",
        "for i in range(2):\n",
        "  print('Term %d : %s' %(i, product[i]))\n",
        "  factor=re.split(\"([+-])\",product[i])\n",
        "\n",
        "  for j in range(0,len(factor)):\n",
        "    term=factor[j].replace(\"'\",\"\")\n",
        "    if j==0 :\n",
        "      factor_calc=np.array(gpt3_embedding(term))\n",
        "    else:\n",
        "      if factor[j-1].replace(\"'\",\"\")=='-':\n",
        "        factor_calc=factor_calc - np.array(gpt3_embedding(term))\n",
        "      if factor[j-1].replace(\"'\",\"\")=='+':\n",
        "        factor_calc=factor_calc + np.array(gpt3_embedding(term))\n",
        "  product_calc.append(factor_calc)\n",
        "\n",
        "print ('Similarity : ', np.dot(product_calc[0],product_calc[1]))"
      ],
      "metadata": {
        "id": "-IQKB18IRF7q",
        "colab": {
          "base_uri": "https://localhost:8080/"
        },
        "outputId": "d9242c86-cb03-4f3e-c1a6-765c827ed351"
      },
      "execution_count": 40,
      "outputs": [
        {
          "output_type": "stream",
          "name": "stdout",
          "text": [
            "Term 0 : 'king'-'man'+'woman'\n",
            "Term 1 : 'queen'\n",
            "Similarity :  0.9483642469867768\n"
          ]
        }
      ]
    },
    {
      "cell_type": "code",
      "source": [
        ""
      ],
      "metadata": {
        "id": "ODST2Bo1Rzd6"
      },
      "execution_count": null,
      "outputs": []
    }
  ]
}